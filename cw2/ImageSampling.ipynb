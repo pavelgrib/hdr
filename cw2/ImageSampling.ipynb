{
 "metadata": {
  "name": "ImageSampling"
 },
 "nbformat": 3,
 "nbformat_minor": 0,
 "worksheets": [
  {
   "cells": [
    {
     "cell_type": "code",
     "collapsed": false,
     "input": [
      "import PIL.Image as Image\n",
      "import math, sys, functools\n",
      "import matplotlib.pyplot as plt\n",
      "import numpy as np\n",
      "import pandas as pd\n",
      "import array\n",
      "\n",
      "workingDir = '/Users/paul/Dropbox/Imperial/advanced-graphics/cw2/'\n",
      "numSamples = 1024\n",
      "ppmFile = Image.open(workingDir + 'grace_latlong.ppm')\n",
      "\n",
      "pfmFile = open(workingDir + 'grace_latlong.pfm', 'rb')\n",
      "\n",
      "pfmData = array.array('f')\n",
      "\n",
      "ppmData = ppmFile.getdata()"
     ],
     "language": "python",
     "metadata": {},
     "outputs": [],
     "prompt_number": 61
    },
    {
     "cell_type": "code",
     "collapsed": false,
     "input": [
      "def readPFMFile(filepath):\n",
      "    pfmFile = open(filepath, 'rb')\n",
      "    pfmFile.readline()\n",
      "    dims = pfmFile.readline()\n",
      "    width = int(dims.split()[0])\n",
      "    height = int(dims.split()[1])\n",
      "    numChannels = 3\n",
      "    pfmFile.readline()\n",
      "    data = array.array('f')\n",
      "    data.read(pfmFile, width * height * 3)\n",
      "    npData = np.array(data)\n",
      "    npData.shape = (height, width, numChannels)\n",
      "    npData = npData[::-1]\n",
      "    return npData\n",
      "\n",
      "#fp = fopen(filename, \"wb\");\n",
      "#    fputc('P', fp);\n",
      "#\tfputc('F', fp);\n",
      "#\tfputc(0x0a, fp);\n",
      "#  \n",
      "#\tfprintf(fp, \"%d %d\", image->width, image->height);\n",
      "#\tfputc(0x0a, fp);\n",
      " #   \n",
      "\t#fprintf(fp, \"%f\", -1.0f);\n",
      "\t#fputc(0x0a, fp);\n",
      "    \n",
      "\t#// write image data upside down!!!\n",
      "    #// since we flipped the image upside-down when we read it\n",
      " #\t// we have to write it upside-down so it's stored the right way\n",
      " #   for( i = image->height - 1; i >= 0; --i ) {\n",
      " #       fwrite( &image->data[i * image->width * image->numComponents],\n",
      " #              sizeof(float), image->width * image->numComponents, fp );\n",
      " #   }\n",
      "#\tfclose(fp);\n",
      "def writePFMFile(filepath, data):\n",
      "    f = open(filepath, 'wb')\n",
      "    f.write('FP' + '\\0x0a\\0x0a')\n",
      "    f.write(data.shape[0] + ' ' + data.shape[1] + '\\0x0a')\n",
      "    f.write('-1.0\\0x0a')\n",
      "    for i in np.range(data.shape[0],0):\n",
      "        numpy.tofile(f, data[i, :, :])\n",
      "    f.flush()\n",
      "    f.close()"
     ],
     "language": "python",
     "metadata": {},
     "outputs": [],
     "prompt_number": 42
    },
    {
     "cell_type": "code",
     "collapsed": false,
     "input": [
      "fp = readPFMFile(workingDir + 'grace_latlong.pfm')"
     ],
     "language": "python",
     "metadata": {},
     "outputs": [],
     "prompt_number": 43
    },
    {
     "cell_type": "code",
     "collapsed": false,
     "input": [
      "lum = np.average(fp, axis=2)\n",
      "sinTheta = map(math.sin, np.linspace(0, math.pi, fp.shape[0]))\n",
      "scaledLum = (lum.T * sinTheta).T\n",
      "\n",
      "xUniform = np.random.rand(numSamples)\n",
      "yUniform = np.random.rand(numSamples)\n",
      "\n",
      "rowAvg = np.average(scaledLum, axis = 1).reshape(512)\n",
      "\n",
      "rowCDF = np.zeros(rowAvg.shape[0] + 1)\n",
      "rowCDF[1:] = np.cumsum(rowAvg)\n",
      "s = rowCDF[-1]\n",
      "rowCDF = rowCDF / s\n",
      "\n",
      "samples = []\n",
      "x = np.searchsorted(rowCDF, xUniform)\n",
      "for (i, u) in enumerate(yUniform):\n",
      "    yCDF = np.zeros(scaledLum.shape[1])\n",
      "    yCDF = np.cumsum(scaledLum[x[i], :])\n",
      "    s = yCDF[-1]\n",
      "    yCDF = yCDF / s\n",
      "    y = np.searchsorted(yCDF, u)\n",
      "    samples.append((x[i],y))\n",
      "    \n",
      "for (i,j) in samples:\n",
      "    fp[(i-2):(i+2),(j-2):(j+2),0] = fp[(i-2):(i+2),(j-2):(j+2),2] = 0\n",
      "    fp[(i-2):(i+2),(j-2):(j+2),1] = 1.0"
     ],
     "language": "python",
     "metadata": {},
     "outputs": [],
     "prompt_number": 272
    },
    {
     "cell_type": "code",
     "collapsed": false,
     "input": [
      "%load sampler.py"
     ],
     "language": "python",
     "metadata": {},
     "outputs": [],
     "prompt_number": 280
    },
    {
     "cell_type": "code",
     "collapsed": false,
     "input": [
      "#!/usr/bin/bash\n",
      "\n",
      "import PIL.Image as Image\n",
      "import math, sys, functools\n",
      "import matplotlib.pyplot as plt\n",
      "import numpy as np\n",
      "import pandas as pd\n",
      "import array\n",
      "\n",
      "def upTo255(x):\n",
      "\tif x >= 1.0:\n",
      "\t\treturn int(255)\n",
      "\telse:\n",
      "\t\treturn int(255 * x)\n",
      "\n",
      "class FPSampler:\n",
      "\tdef __init__(self, filepath):\n",
      "\t\tself.filepath = filepath\n",
      "\t\tpfmFile = open(filepath, 'rb')\n",
      "\t\tpfmFile.readline()\n",
      "\t\tdims = pfmFile.readline()\n",
      "\t\tself.width = int(dims.split()[0])\n",
      "\t\tself.height = int(dims.split()[1])\n",
      "\t\tself.numChannels = 3\n",
      "\t\tpfmFile.readline()\n",
      "\t\tdata = array.array('f')\n",
      "\t\tdata.read(pfmFile, self.width * self.height * 3)\n",
      "\t\tnpData = np.array(data)\n",
      "\t\tnpData.shape = (self.height, self.width, self.numChannels)\n",
      "\t\tself.npData = npData[::-1]\n",
      "\t\tpfmFile.close()\n",
      "\t\n",
      "\tdef writePFMFile(self, filepath, data):\n",
      "\t\tf = open(filepath, 'wb')\n",
      "\t\tf.write('FP\\0x0a\\0x0a')\n",
      "\t\tf.write(str(self.npData.shape[0]) + ' ' + str(self.npData.shape[1]) + '\\0x0a')\n",
      "\t\tf.write('-1.0\\0x0a')\n",
      "\t\trev = self.npData[::-1].astype(np.float32)\n",
      "\t\trev.tofile(f)\n",
      "\t\tf.flush()\n",
      "\t\tf.close()\n",
      "\n",
      "\tdef cdfSamples(self, numSamples):\n",
      "\t\tlum = np.average(self.npData, axis=2)\n",
      "\t\tsinTheta = map(math.sin, np.linspace(0, math.pi, self.npData.shape[0]))\n",
      "\t\tscaledLum = (lum.T * sinTheta).T\n",
      "\n",
      "\t\txUniform = np.random.rand(numSamples)\n",
      "\t\tyUniform = np.random.rand(numSamples)\n",
      "\n",
      "\t\trowAvg = np.average(scaledLum, axis = 1).reshape(512)\n",
      "\n",
      "\t\trowCDF = np.zeros(rowAvg.shape[0] + 1)\n",
      "\t\trowCDF[1:] = np.cumsum(rowAvg)\n",
      "\t\ts = rowCDF[-1]\n",
      "\t\trowCDF = rowCDF / s\n",
      "\n",
      "\t\tsamples = []\n",
      "\t\tx = np.searchsorted(rowCDF, xUniform)\n",
      "\t\n",
      "\t\tfor (i, u) in enumerate(yUniform):\n",
      "\t\t\tyCDF = np.zeros(scaledLum.shape[1])\n",
      "\t\t\tyCDF = np.cumsum(scaledLum[x[i], :])\n",
      "\t\t\ts = yCDF[-1]\n",
      "\t\t\tyCDF = yCDF / s\n",
      "\t\t\ty = np.searchsorted(yCDF, u)\n",
      "\t\t\tsamples.append((x[i],y))\n",
      "\t\treturn samples\n",
      "\n",
      "\tdef phongSamples(self, numSamples, exponent):\n",
      "\t\txUniform = np.random.rand(numSamples)\n",
      "\t\tyUniform = np.random.rand(numSamples)\n",
      "\n",
      "\t\tdef thetaFunc(u):\n",
      "\t\t\treturn int(2.0 * math.acos(math.pow(1 - u, 1.0/(exponent + 1))) / math.pi * self.height)\n",
      "\n",
      "\t\ttheta = map(thetaFunc, xUniform)\n",
      "\t\tphi = map(int, yUniform * self.width)\n",
      "\t\tsamples = zip(theta, phi)\n",
      "\t\treturn samples\n",
      "\n",
      "\tdef applySamplesToImage(self, samples):\n",
      "\t\tnewImageData = self.npData.copy()\n",
      "\t\tfor v in samples:\n",
      "\t\t\ti = v[0]\n",
      "\t\t\tj = v[1]\n",
      "\t\t\tnewImageData[(i-2):(i+2),(j-2):(j+2),0] = newImageData[(i-2):(i+2),(j-2):(j+2),2] = 0\n",
      "\t\t\tnewImageData[(i-2):(i+2),(j-2):(j+2),1] = 1.0\n",
      "\t\treturn newImageData\n",
      "\n",
      "\tdef toPPM(self, pfmData):\n",
      "\t\tf = np.vectorize(upTo255)\n",
      "\t\treturn f(pfmData)\n",
      "\n",
      "\tdef imageValues(self, samples):\n",
      "\t\tvalues = list(len(samples))\n",
      "\t\tfor i, sample in enumerate(samples):\n",
      "\t\t\tvalues[i] = self.npData[sample[0], sample[1]]\n",
      "\n",
      "if __name__ == '__main__':\n",
      "\tgracedir = '/Users/paul/Dropbox/Imperial/advanced-graphics/GraceCathedral/'\n",
      "\tworkingdir = '/Users/paul/github/hdr/cw2/'\n",
      "\tsampler = FPSampler(gracedir + 'grace_latlong.pfm')\n",
      "\tfor i in [64, 256, 1024]:\n",
      "\t\tmc_samples = sampler.cdfSamples(i)\n",
      "\t\tmc_sampled_image = sampler.applySamplesToImage(mc_samples)\n",
      "\t\tmc_ppm = sampler.toPPM(mc_sampled_image)\n",
      "\t\tsampler.writePFMFile(workingdir + 'grace_cdf' + str(i) + '.pfm', mc_sampled_image)\n",
      "\t\timg = Image.fromarray(np.uint8(mc_ppm))\n",
      "\t\timg.save('grace_cdf_' + str(i) + '.ppm')\n",
      "\t\tfor j in [1, 10, 50, 200]:\n",
      "\t\t\tphong_samples = sampler.phongSamples(i, j)\n",
      "\t\t\tphong_sampled_image = sampler.applySamplesToImage(phong_samples)\n",
      "\t\t\tphong_ppm = sampler.toPPM(phong_sampled_image)\n",
      "\t\t\tsampler.writePFMFile(workingdir + 'phong_' + str(i) + '_' + str(j) + '.pfm', phong_sampled_image)\n",
      "\t\t\timg = Image.fromarray(np.uint8(phong_ppm))\n",
      "\t\t\timg.save('grace_phong_' + str(i) + '_' + str(j) + '.ppm')\n"
     ],
     "language": "python",
     "metadata": {},
     "outputs": [],
     "prompt_number": 281
    },
    {
     "cell_type": "code",
     "collapsed": false,
     "input": [
      "ls"
     ],
     "language": "python",
     "metadata": {},
     "outputs": [
      {
       "output_type": "stream",
       "stream": "stdout",
       "text": [
        "ImageSampling.ipynb       grace_phong_256_1.ppm     phong_256_1.pfm\r\n",
        "fresnel_plot.ipynb        grace_phong_256_10.ppm    phong_256_10.pfm\r\n",
        "grace_cdf1024.pfm         grace_phong_256_200.ppm   phong_256_200.pfm\r\n",
        "grace_cdf256.pfm          grace_phong_256_50.ppm    phong_256_50.pfm\r\n",
        "grace_cdf64.pfm           grace_phong_64_1.ppm      phong_64_1.pfm\r\n",
        "grace_cdf_1024.ppm        grace_phong_64_10.ppm     phong_64_10.pfm\r\n",
        "grace_cdf_256.ppm         grace_phong_64_200.ppm    phong_64_200.pfm\r\n",
        "grace_cdf_64.ppm          grace_phong_64_50.ppm     phong_64_50.pfm\r\n",
        "grace_phong_1024_1.ppm    phong_1024_1.pfm          sampled_sphere.py\r\n",
        "grace_phong_1024_10.ppm   phong_1024_10.pfm         sampler.py\r\n",
        "grace_phong_1024_200.ppm  phong_1024_200.pfm        sampler.pyc\r\n",
        "grace_phong_1024_50.ppm   phong_1024_50.pfm\r\n"
       ]
      }
     ],
     "prompt_number": 284
    },
    {
     "cell_type": "code",
     "collapsed": false,
     "input": [
      "%load sampled_sphere.py"
     ],
     "language": "python",
     "metadata": {},
     "outputs": [],
     "prompt_number": 285
    },
    {
     "cell_type": "code",
     "collapsed": false,
     "input": [
      "#!/usr/bin/bash\n",
      "\n",
      "import numpy as np\n",
      "from scipy.linalg import norm, det\n",
      "import PIL.Image as Image\n",
      "import math, sys\n",
      "import matplotlib.pyplot as plt\n",
      "import sampler\n",
      "\n",
      "def sphericalCoord( cartesianCoord ):\n",
      "\ttheta = math.acos( cartesianCoord[1] )\n",
      "\tphi = math.atan2( cartesianCoord[2], cartesianCoord[0] )\n",
      "\tr = math.sqrt( cartesianCoord**2 + cartesianCoord**2 + cartesianCoord**2 )\n",
      "\treturn (theta, phi, r)\n",
      "\n",
      "def cartesianCoord( sphericalCoord ):\n",
      "\ttheta = sphericalCoord[0]\n",
      "\tphi = sphericalCoord[1]\n",
      "\tx = math.sin( theta ) * math.cos( phi )\n",
      "\ty = math.sin( theta ) * math.sin( phi )\n",
      "\tz = math.cos( theta )\n",
      "\treturn x, y, z\n",
      "\n",
      "def thetaPhiFromLatlong( i, j, latlongData ):\n",
      "\ttheta = i * math.pi / latlongData.shape[0]\n",
      "\tphi = j * 2 * math.pi / latlongData.shape[1]\n",
      "\treturn theta, phi\n",
      "\n",
      "def reflectedVector(v, n):\n",
      "\treturn np.dot(n, v) * n - v\n",
      "\n",
      "def distance(pointA, pointB):\n",
      "\treturn sqrt( (pointA[0] - pointB[0])**2 + (pointA[1] - pointB[1])**2 )\n",
      "\n",
      "def normalizePixel(pixel):\n",
      "\tn = norm(pixel)\n",
      "\treturn (pixel[0]/n, pixel[1]/n, pixel[2]/n)\n",
      "\n",
      "class SampledSphere:\n",
      "\tdef __init__(self, sphereDiameter):\n",
      "\t\tself.diameter = sphereDiameter\n",
      "\t\tself.imageData = sampler.npData\n",
      "\n",
      "\tdef emptySphere(self):\n",
      "\t\tself.data = np.ones(shape=(self.diameter, self.diameter, 3))\n",
      "\t\tr = self.diameter / 2\n",
      "\t\tcenter = (r, r)\n",
      "\n",
      "\t\tfor index in np.ndindex(self.diameter, self.diameter):\n",
      "\t\t\tif distance(index, (r, r)) > r:\n",
      "\t\t\t\tself.data[index[0], index[1], :] = 0\n",
      "\n",
      "\tdef precomputeIntegral(self, imageData):\n",
      "\t\tself.integral = 0.0\n",
      "\t\tluminance = np.average(imageData, axis=2)\n",
      "\t\td_theta = math.pi / float(luminance.shape[0])\n",
      "\t\td_phi = 2*math.pi / float(luminance.shape[1])\n",
      "\t\tfor idx, v in np.ndenumerate(luminance):\n",
      "\t\t\ttheta = d_theta * idx[0]\n",
      "\t\t\td_omega = math.sin(theta) * d_theta * d_phi\n",
      "\t\t\tself.integral += v * d_omega\n",
      "\n",
      "\tdef monteCarloSum(self, sampleValues, spherePixel):\n",
      "\t\tself.mcSum = 0.0\n",
      "\t\ttheta = spherePoint[0] * 2 * math.pi / (self.diameter + 1)\n",
      "\t\tfor s in sampleValues:\n",
      "\t\t\tself.mcSum += cos(theta) * (s / norm(s)) / math.pi\n",
      "\n",
      "\tdef mapSamplesOntoSphere(self, sampler, numSamples):\n",
      "\t\tif not self.data:\n",
      "\t\t\tself.emptySphere()\n",
      "\t\tif not self.integral:\n",
      "\t\t\tself.precomputeIntegral(sampler.npData)\n",
      "\n",
      "\t\tsamples = sampler.cdfSamples(numSamples)\n",
      "\t\tsampleValues = sampler.sampleValues()\n",
      "\t\tfor i, v in np.ndenumerate(self.data[self.data!=0]):\n",
      "\t\t\ttheta, phi = thetaPhiFromLatlong((i[0], i[1]), npData)\n",
      "\t\t\tx,y,z = cartesianCoord( (theta, phi) )\n",
      "\t\t\trgbValue = self.integral * monteCarloSum(sampleValues, (i))\n",
      "\n",
      "\tdef saveSphereImage(self, filepath, asFloatingPoint):\n",
      "\t\tpass"
     ],
     "language": "python",
     "metadata": {},
     "outputs": [],
     "prompt_number": 286
    },
    {
     "cell_type": "code",
     "collapsed": false,
     "input": [
      "np.linspace(0,10, 20)"
     ],
     "language": "python",
     "metadata": {},
     "outputs": [
      {
       "output_type": "pyout",
       "prompt_number": 291,
       "text": [
        "array([  0.        ,   0.52631579,   1.05263158,   1.57894737,\n",
        "         2.10526316,   2.63157895,   3.15789474,   3.68421053,\n",
        "         4.21052632,   4.73684211,   5.26315789,   5.78947368,\n",
        "         6.31578947,   6.84210526,   7.36842105,   7.89473684,\n",
        "         8.42105263,   8.94736842,   9.47368421,  10.        ])"
       ]
      }
     ],
     "prompt_number": 291
    },
    {
     "cell_type": "code",
     "collapsed": false,
     "input": [
      "import struct\n",
      "struct.pack('%ds' % 5,'abcde')"
     ],
     "language": "python",
     "metadata": {},
     "outputs": [
      {
       "output_type": "pyout",
       "prompt_number": 16,
       "text": [
        "'abcde'"
       ]
      }
     ],
     "prompt_number": 16
    },
    {
     "cell_type": "code",
     "collapsed": false,
     "input": [
      "struct.pack('hhl', 1, 2, 3)"
     ],
     "language": "python",
     "metadata": {},
     "outputs": [
      {
       "output_type": "pyout",
       "prompt_number": 20,
       "text": [
        "'\\x01\\x00\\x02\\x00\\x00\\x00\\x00\\x00\\x03\\x00\\x00\\x00\\x00\\x00\\x00\\x00'"
       ]
      }
     ],
     "prompt_number": 20
    },
    {
     "cell_type": "code",
     "collapsed": false,
     "input": [
      "0.5 + cos(pi)/2"
     ],
     "language": "python",
     "metadata": {},
     "outputs": [
      {
       "output_type": "pyout",
       "prompt_number": 304,
       "text": [
        "0.0"
       ]
      }
     ],
     "prompt_number": 304
    },
    {
     "cell_type": "code",
     "collapsed": false,
     "input": [
      "import struct\n",
      "path1 = '/Users/paul/github/hdr/tests/writing.pfm'\n",
      "path2 = '/Users/paul/github/hdr/tests/writing2.pfm'\n",
      "f = open(path1, 'wb')"
     ],
     "language": "python",
     "metadata": {},
     "outputs": [],
     "prompt_number": 168
    },
    {
     "cell_type": "code",
     "collapsed": false,
     "input": [],
     "language": "python",
     "metadata": {},
     "outputs": [],
     "prompt_number": 169
    },
    {
     "cell_type": "code",
     "collapsed": false,
     "input": [
      "f.close()\n",
      "\n",
      "fr = open(path1, 'rb')"
     ],
     "language": "python",
     "metadata": {},
     "outputs": [],
     "prompt_number": 171
    },
    {
     "cell_type": "code",
     "collapsed": false,
     "input": [
      "import os\n",
      "os.remove(path1)\n",
      "os.remove(path2)"
     ],
     "language": "python",
     "metadata": {},
     "outputs": [
      {
       "ename": "OSError",
       "evalue": "[Errno 2] No such file or directory: '/Users/paul/github/hdr/tests/writing2.pfm'",
       "output_type": "pyerr",
       "traceback": [
        "\u001b[0;31m---------------------------------------------------------------------------\u001b[0m\n\u001b[0;31mOSError\u001b[0m                                   Traceback (most recent call last)",
        "\u001b[0;32m<ipython-input-172-3b05d316bdce>\u001b[0m in \u001b[0;36m<module>\u001b[0;34m()\u001b[0m\n\u001b[1;32m      1\u001b[0m \u001b[0;32mimport\u001b[0m \u001b[0mos\u001b[0m\u001b[0;34m\u001b[0m\u001b[0m\n\u001b[1;32m      2\u001b[0m \u001b[0mos\u001b[0m\u001b[0;34m.\u001b[0m\u001b[0mremove\u001b[0m\u001b[0;34m(\u001b[0m\u001b[0mpath1\u001b[0m\u001b[0;34m)\u001b[0m\u001b[0;34m\u001b[0m\u001b[0m\n\u001b[0;32m----> 3\u001b[0;31m \u001b[0mos\u001b[0m\u001b[0;34m.\u001b[0m\u001b[0mremove\u001b[0m\u001b[0;34m(\u001b[0m\u001b[0mpath2\u001b[0m\u001b[0;34m)\u001b[0m\u001b[0;34m\u001b[0m\u001b[0m\n\u001b[0m",
        "\u001b[0;31mOSError\u001b[0m: [Errno 2] No such file or directory: '/Users/paul/github/hdr/tests/writing2.pfm'"
       ]
      }
     ],
     "prompt_number": 172
    },
    {
     "cell_type": "code",
     "collapsed": false,
     "input": [
      "x = np.array(ppmFile.getdata())"
     ],
     "language": "python",
     "metadata": {},
     "outputs": [],
     "prompt_number": 190
    },
    {
     "cell_type": "code",
     "collapsed": false,
     "input": [
      "a = np.linspace(0,3,4)\n",
      "b = np.linspace(0,3,4)\n",
      "av, bv = np.meshgrid(a, b, sparse=True, indexing='ij')"
     ],
     "language": "python",
     "metadata": {},
     "outputs": [],
     "prompt_number": 254
    },
    {
     "cell_type": "code",
     "collapsed": false,
     "input": [
      "av, bv"
     ],
     "language": "python",
     "metadata": {},
     "outputs": [
      {
       "output_type": "pyout",
       "prompt_number": 255,
       "text": [
        "(array([[ 0.],\n",
        "       [ 1.],\n",
        "       [ 2.],\n",
        "       [ 3.]]),\n",
        " array([[ 0.,  1.,  2.,  3.]]))"
       ]
      }
     ],
     "prompt_number": 255
    },
    {
     "cell_type": "code",
     "collapsed": false,
     "input": [
      "x = zip(av,bv)"
     ],
     "language": "python",
     "metadata": {},
     "outputs": [],
     "prompt_number": 248
    },
    {
     "cell_type": "code",
     "collapsed": false,
     "input": [],
     "language": "python",
     "metadata": {},
     "outputs": [
      {
       "output_type": "pyout",
       "prompt_number": 250,
       "text": [
        "[(array([ 0.]), array([ 0.,  1.,  2.,  3.]))]"
       ]
      }
     ],
     "prompt_number": 250
    },
    {
     "cell_type": "code",
     "collapsed": false,
     "input": [
      "%load sphere.py"
     ],
     "language": "python",
     "metadata": {},
     "outputs": [],
     "prompt_number": 853
    },
    {
     "cell_type": "code",
     "collapsed": false,
     "input": [
      "import numpy as np\n",
      "from scipy.linalg import norm, det\n",
      "import PIL.Image as Image\n",
      "from math import sin, cos, acos, atan2, pi, fabs, sqrt\n",
      "from imageIO import loadPFMFile\n",
      "\n",
      "tol = 1e-8\n",
      "\n",
      "\n",
      "def latlongToAngular(latlong, heightIdx, widthIdx):\n",
      "\theight = float(latlong.shape[0])\n",
      "\twidth = float(latlong.shape[1])\n",
      "\ttheta = heightIdx / (height - 1) * pi\n",
      "\tphi = ((width - 1) - widthIdx) / (width - 1) * 2.0 * pi\n",
      "\treturn np.array([theta, phi])\n",
      "\n",
      "class Sphere:\n",
      "\tdef __init__(self, center, diameter):\n",
      "\t\tself.diameter = diameter\n",
      "\t\tself.radius = diameter / 2.0\n",
      "\t\tself.center = center\n",
      "\n",
      "\tdef insideSphere(self, xyzCoord):\n",
      "\t\treturn norm(self.center - xyzCoord) <= self.radius\n",
      "\n",
      "\tdef normal(self, theta, phi):\n",
      "\t\treturn self.xyzPoint(theta, phi) - self.center\n",
      "\n",
      "\tdef reflection(self, view, theta, phi):\n",
      "\t\tn = self.normal(theta, phi)\n",
      "\t\treturn 2.0 * np.dot(n, view) * n - view\n",
      "\n",
      "\tdef xyzPoint(self, theta, phi):\n",
      "\t\tx = np.around( self.radius * sin(theta) * cos(phi), 12 )\n",
      "\t\ty = np.around( self.radius * cos(theta), 12 )\n",
      "\t\tz = np.around( self.radius * sin(theta) * sin(phi), 12 )\n",
      "\t\treturn np.array([x,y,z])\n",
      "\n",
      "\tdef sphericalCoord(self, xyzPoint):\n",
      "\t\tif fabs(norm( xyzPoint - self.center ) - radius) < tol:\n",
      "\t\t\ttheta = acos( xyzPoint[1] )\n",
      "\t\t\tphi = atan2( xyzPoint[2], xyzPoint[0] )\n",
      "\t\t\treturn np.array([theta, phi])\n",
      "\t\telse:\n",
      "\t\t\treturn -1\n",
      "\n",
      "\n",
      "\n",
      "class SphereRenderer:\n",
      "\tdef __init__(self, diameter):\n",
      "\t\tself.sphere = Sphere([0,0,0], 2.0)\n",
      "\t\tself.data = np.zeros( (diameter, diameter, 3), dtype=np.float32 )\n",
      "\t\tself.pixelDiameter = diameter\n",
      "\t\tself.radius = 1.0\n",
      "\n",
      "\tdef insideRenderedSphere(self, xyCoord ):\n",
      "\t\treturn norm( xyCoord ) <= self.radius\n",
      "\n",
      "\tdef shadeSphereAtPoint(self, polarCoord, rgbValues):\n",
      "\t\txyzCoord = self.sphere.xyzPoint(polarCoord[0], polarCoord[1])\n",
      "\t\tidx = self.mapXYToPixel(xyzCoord)\n",
      "\t\tself.data[idx[0], idx[1], :] = rgbValues\n",
      "\t\t\n",
      "\tdef getXYZfromXY(self, xyCoord):\n",
      "\t\tx = xyCoord[0]\n",
      "\t\ty = xyCoord[1]\n",
      "\t\tz = sqrt( 1.0 - x*x - y*y )\n",
      "\t\treturn np.array( [x, y, z] )\n",
      "\n",
      "\tdef mapXYToPixel(self, xyCoord):\n",
      "\t\t\"\"\" x and y go from -1 to +1 \"\"\"\n",
      "\t\treturn map( int, [(self.diameter - 1) * (xyCoord[0] + 1) / 2.0, \\\n",
      "\t\t\t(self.diameter - 1) * (1 - xyCoord[1]) / 2.0] )\n",
      "\n",
      "\tdef mapLatlong(self, latlong, view = [0, 0, 1]):\n",
      "\t\t\"\"\" for each point inside the rendered sphere, calculate where it reflects \n",
      "            to on the latlong map from the view of [0,0,1] \"\"\"\n",
      "\t\t# determining which points in self.data are to be shaded\n",
      "\t\t# this is really bad, needs to be vectorized for performance\n",
      "\t\t# right now, takes a few seconds for 512 x 1024\n",
      "\t\td = self.pixelDiameter\n",
      "\t\tfor i in range(d):\n",
      "\t\t\tfor j in range(d):\n",
      "\t\t\t\ty = 1.0 - 2.0 * float(i) / (d - 1)\n",
      "\t\t\t\tx = 2.0 * ((d - 1) - float(j)) / (d - 1) - 1.0\n",
      "\t\t\t\tif self.insideRenderedSphere( [x, y] ):\n",
      "\t\t\t\t\tz = sqrt( round(1.0 - x*x - y*y, 10) )\n",
      "\t\t\t\t\tr = self.sphere.reflection( view, np.array([x, y, z]) )\n",
      "\t\t\t\t\t[theta, phi] = self.sphere.sphericalCoord( r )\n",
      "\t\t\t\t\tllx = int( (latlong.shape[0] - 1) * theta / pi )\n",
      "\t\t\t\t\tlly = int( (latlong.shape[1] - 1) * (pi + phi) / (2*pi) )\n",
      "\t\t\t\t\tself.data[i, j, :] = latlong[llx, lly, :]\n",
      "\n",
      "\tdef mapLatlongSamples(self, latlong, samples):\n",
      "\t\tintegral = np.average(latlong)\n",
      "\t\td = self.pixelDiameter\n",
      "\t\tfor i in range(d):\n",
      "\t\t\tfor j in range(d):\n",
      "\t\t\t\ty = 1.0 - 2.0 * float(i) / (d - 1)\n",
      "\t\t\t\tx = 2.0 * ((d - 1) - float(j)) / (d - 1) - 1.0\n",
      "\t\t\t\tif self.insideRenderedSphere( [x, y] ):\n",
      "\t\t\t\t\tz = sqrt( round(1.0 - x*x - y*y, 10) )\n",
      "\t\t\t\t\tval = 0.0\n",
      "\t\t\t\t\tfor s in samples:\n",
      "\t\t\t\t\t\ttheta = s[0] * pi / (latlong.shape[0] - 1)\n",
      "\t\t\t\t\t\tval = val + cos(theta)/ pi\n",
      "\t\t\t\t\tval = val * integral / len(samples)\n",
      "\t\t\t\t\tself.data[i,j,:] = val * s / norm(s)"
     ],
     "language": "python",
     "metadata": {},
     "outputs": [],
     "prompt_number": 854
    },
    {
     "cell_type": "code",
     "collapsed": false,
     "input": [
      "import numpy as np\n",
      "from scipy.linalg import norm, det\n",
      "import PIL.Image as Image\n",
      "from math import sin, cos, acos, atan2, pi, fabs, sqrt\n",
      "from imageIO import loadPFMFile\n",
      "\n",
      "tol = 1e-8\n",
      "\n",
      "\n",
      "def latlongToAngular(latlong, heightIdx, widthIdx):\n",
      "\theight = float(latlong.shape[0])\n",
      "\twidth = float(latlong.shape[1])\n",
      "\ttheta = heightIdx / (height - 1) * pi\n",
      "\tphi = ((width - 1) - widthIdx) / (width - 1) * 2.0 * pi\n",
      "\treturn np.array([theta, phi])\n",
      "\n",
      "class Sphere:\n",
      "\tdef __init__(self, center, diameter):\n",
      "\t\tself.diameter = diameter\n",
      "\t\tself.radius = diameter / 2.0\n",
      "\t\tself.center = center\n",
      "\n",
      "\tdef insideSphere(self, xyzCoord):\n",
      "\t\treturn norm(self.center - xyzCoord) <= self.radius\n",
      "\n",
      "\tdef normal(self, theta, phi):\n",
      "\t\treturn self.xyzPoint(theta, phi) - self.center\n",
      "\n",
      "\tdef reflection(self, view, normal):\n",
      "\t\treturn 2.0 * np.dot(normal, view) * normal - view\n",
      "\n",
      "\tdef xyzPoint(self, theta, phi):\n",
      "\t\tx = np.around( self.radius * sin(theta) * cos(phi), 12 )\n",
      "\t\ty = np.around( self.radius * cos(theta), 12 )\n",
      "\t\tz = np.around( self.radius * sin(theta) * sin(phi), 12 )\n",
      "\t\treturn np.array([x,y,z])\n",
      "\n",
      "\tdef sphericalCoord(self, xyzPoint):\n",
      "\t\tif fabs(norm( xyzPoint - self.center ) - self.radius) < tol:\n",
      "\t\t\ttheta = acos( xyzPoint[1] )\n",
      "\t\t\tphi = atan2( xyzPoint[2], xyzPoint[0] )\n",
      "\t\t\treturn np.array([theta, phi])\n",
      "\t\telse:\n",
      "\t\t\treturn -1\n",
      "\n",
      "\n",
      "\n",
      "class SphereRenderer:\n",
      "\tdef __init__(self, diameter):\n",
      "\t\tself.sphere = Sphere([0,0,0], 2.0)\n",
      "\t\tself.data = np.zeros( (diameter, diameter, 3), dtype=np.float32 )\n",
      "\t\tself.pixelDiameter = diameter\n",
      "\t\tself.radius = 1.0\n",
      "\n",
      "\tdef insideRenderedSphere(self, xyCoord ):\n",
      "\t\treturn norm( xyCoord ) <= self.radius\n",
      "\n",
      "\tdef shadeSphereAtPoint(self, polarCoord, rgbValues):\n",
      "\t\txyzCoord = self.sphere.xyzPoint(polarCoord[0], polarCoord[1])\n",
      "\t\tidx = self.mapXYToPixel(xyzCoord)\n",
      "\t\tself.data[idx[0], idx[1], :] = rgbValues\n",
      "\t\t\n",
      "\tdef getXYZfromXY(self, xyCoord):\n",
      "\t\tx = xyCoord[0]\n",
      "\t\ty = xyCoord[1]\n",
      "\t\tz = sqrt( 1.0 - x*x - y*y )\n",
      "\t\treturn np.array( [x, y, z] )\n",
      "\n",
      "\tdef mapXYToPixel(self, xyCoord):\n",
      "\t\t\"\"\" x and y go from -1 to +1 \"\"\"\n",
      "\t\treturn map( int, [(self.diameter - 1) * (xyCoord[0] + 1) / 2.0, \\\n",
      "\t\t\t(self.diameter - 1) * (1 - xyCoord[1]) / 2.0] )\n",
      "\n",
      "\tdef mapLatlong(self, latlong, view = [0, 0, 1]):\n",
      "\t\t\"\"\" for each point inside the rendered sphere, calculate where it reflects \n",
      "            to on the latlong map from the view of [0,0,1] \"\"\"\n",
      "\t\t# determining which points in self.data are to be shaded\n",
      "\t\t# this is really bad, needs to be vectorized for performance\n",
      "\t\t# right now, takes a few seconds for 512 x 1024\n",
      "\t\td = self.pixelDiameter\n",
      "\t\tfor i in range(d):\n",
      "\t\t\tfor j in range(d):\n",
      "\t\t\t\ty = 1.0 - 2.0 * float(i) / (d - 1)\n",
      "\t\t\t\tx = 2.0 * ((d - 1) - float(j)) / (d - 1) - 1.0\n",
      "\t\t\t\tif self.insideRenderedSphere( [x, y] ):\n",
      "\t\t\t\t\tz = sqrt( round(1.0 - x*x - y*y, 10) )\n",
      "\t\t\t\t\tr = self.sphere.reflection( view, np.array([x, y, z]) )\n",
      "\t\t\t\t\t[theta, phi] = self.sphere.sphericalCoord( r )\n",
      "\t\t\t\t\tllx = int( (latlong.shape[0] - 1) * theta / pi )\n",
      "\t\t\t\t\tlly = int( (latlong.shape[1] - 1) * (pi/2 + phi) / (2*pi) )\n",
      "\t\t\t\t\tself.data[i, j, :] = latlong[llx, lly, :]\n",
      "\n",
      "\tdef mapLatlongSamples(self, latlong, samples):\n",
      "\t\tintegral = np.average(latlong)\n",
      "\t\td = self.pixelDiameter\n",
      "\t\tfor i in range(d):\n",
      "            print i\n",
      "\t\t\tfor j in range(d):\n",
      "\t\t\t\ty = 1.0 - 2.0 * float(i) / (d - 1)\n",
      "\t\t\t\tx = 2.0 * ((d - 1) - float(j)) / (d - 1) - 1.0\n",
      "\t\t\t\tif self.insideRenderedSphere( [x, y] ):\n",
      "\t\t\t\t\tz = sqrt( round(1.0 - x*x - y*y, 10) )\n",
      "\t\t\t\t\tval = np.zeros(3)\n",
      "\t\t\t\t\tnormalized = map( lambda x: x / norm(x), latlong[zip(*samples)] )\n",
      "\t\t\t\t\ttheta = np.array(zip(*samples)[0]) * pi / (latlong.shape[0] - 1)\n",
      "\t\t\t\t\tval= np.sum( np.cos(theta) * np.array(normalized).T / pi)\n",
      "\t\t\t\t\tself.data[i,j,:] = val"
     ],
     "language": "python",
     "metadata": {},
     "outputs": [],
     "prompt_number": 968
    },
    {
     "cell_type": "code",
     "collapsed": false,
     "input": [
      "renderer = SphereRenderer(511)\n",
      "latlongPath = '/Users/paul/github/hdr/GraceCathedral/grace_latlong.pfm'\n",
      "graceLatlong = imageIO.loadPFMFile( latlongPath )"
     ],
     "language": "python",
     "metadata": {},
     "outputs": [],
     "prompt_number": 969
    },
    {
     "cell_type": "code",
     "collapsed": false,
     "input": [
      "renderer.mapLatlong( graceLatlong )"
     ],
     "language": "python",
     "metadata": {},
     "outputs": [],
     "prompt_number": 961
    },
    {
     "cell_type": "code",
     "collapsed": false,
     "input": [
      "from sampler import FPSampler\n",
      "mysampler = FPSampler(latlongPath)\n",
      "samples = mysampler.cdfSamples( 64 )"
     ],
     "language": "python",
     "metadata": {},
     "outputs": [],
     "prompt_number": 970
    },
    {
     "cell_type": "code",
     "collapsed": false,
     "input": [
      "renderer.mapLatlongSamples( graceLatlong, samples )"
     ],
     "language": "python",
     "metadata": {},
     "outputs": [],
     "prompt_number": "*"
    },
    {
     "cell_type": "code",
     "collapsed": false,
     "input": [],
     "language": "python",
     "metadata": {},
     "outputs": [],
     "prompt_number": 940
    },
    {
     "cell_type": "code",
     "collapsed": false,
     "input": [],
     "language": "python",
     "metadata": {},
     "outputs": []
    },
    {
     "cell_type": "code",
     "collapsed": false,
     "input": [
      "reload(imageIO)"
     ],
     "language": "python",
     "metadata": {},
     "outputs": [],
     "prompt_number": 670
    },
    {
     "cell_type": "code",
     "collapsed": false,
     "input": [
      "plt.imshow(imageIO.toPPM(graceLatlong)*2)"
     ],
     "language": "python",
     "metadata": {},
     "outputs": [],
     "prompt_number": 594
    },
    {
     "cell_type": "code",
     "collapsed": false,
     "input": [],
     "language": "python",
     "metadata": {},
     "outputs": []
    },
    {
     "cell_type": "code",
     "collapsed": false,
     "input": [],
     "language": "python",
     "metadata": {},
     "outputs": [
      {
       "output_type": "pyout",
       "prompt_number": 832,
       "text": [
        "<module 'imageIO' from 'imageIO.py'>"
       ]
      }
     ],
     "prompt_number": 832
    },
    {
     "cell_type": "code",
     "collapsed": false,
     "input": [],
     "language": "python",
     "metadata": {},
     "outputs": []
    },
    {
     "cell_type": "code",
     "collapsed": false,
     "input": [
      "plt.imshow(renderer.data)"
     ],
     "language": "python",
     "metadata": {},
     "outputs": []
    },
    {
     "cell_type": "code",
     "collapsed": false,
     "input": [
      "np.average(renderer.data)"
     ],
     "language": "python",
     "metadata": {},
     "outputs": [
      {
       "output_type": "pyout",
       "prompt_number": 907,
       "text": [
        "nan"
       ]
      }
     ],
     "prompt_number": 907
    },
    {
     "cell_type": "code",
     "collapsed": false,
     "input": [
      "temp = np.all(graceLatlong>=1, axis=2)\n",
      "np.where( temp==True )"
     ],
     "language": "python",
     "metadata": {},
     "outputs": [
      {
       "output_type": "pyout",
       "prompt_number": 818,
       "text": [
        "(array([  1,   1,   1, ..., 358, 358, 358]),\n",
        " array([757, 758, 759, ..., 589, 590, 591]))"
       ]
      }
     ],
     "prompt_number": 818
    },
    {
     "cell_type": "code",
     "collapsed": false,
     "input": [],
     "language": "python",
     "metadata": {},
     "outputs": [
      {
       "output_type": "pyout",
       "prompt_number": 811,
       "text": [
        "(array([  0,   0,   0, ..., 511, 511, 511]),\n",
        " array([   0,    1,    2, ..., 1021, 1022, 1023]))"
       ]
      }
     ],
     "prompt_number": 811
    },
    {
     "cell_type": "code",
     "collapsed": false,
     "input": [],
     "language": "python",
     "metadata": {},
     "outputs": [
      {
       "output_type": "pyout",
       "prompt_number": 805,
       "text": [
        "18793"
       ]
      }
     ],
     "prompt_number": 805
    },
    {
     "cell_type": "code",
     "collapsed": false,
     "input": [],
     "language": "python",
     "metadata": {},
     "outputs": [],
     "prompt_number": 777
    },
    {
     "cell_type": "code",
     "collapsed": false,
     "input": [],
     "language": "python",
     "metadata": {},
     "outputs": [],
     "prompt_number": 778
    },
    {
     "cell_type": "code",
     "collapsed": false,
     "input": [],
     "language": "python",
     "metadata": {},
     "outputs": []
    }
   ],
   "metadata": {}
  }
 ]
}