{
 "metadata": {
  "name": "ImageSampling"
 },
 "nbformat": 3,
 "nbformat_minor": 0,
 "worksheets": [
  {
   "cells": [
    {
     "cell_type": "code",
     "collapsed": false,
     "input": [
      "import PIL.Image as Image\n",
      "import math, sys, functools\n",
      "import matplotlib.pyplot as plt\n",
      "import numpy as np\n",
      "import pandas as pd\n",
      "import array\n",
      "\n",
      "workingDir = '/Users/paul/Dropbox/Imperial/advanced-graphics/cw2/'\n",
      "numSamples = 1024\n",
      "ppmFile = Image.open(workingDir + 'grace_latlong.ppm')\n",
      "\n",
      "pfmFile = open(workingDir + 'grace_latlong.pfm', 'rb')\n",
      "\n",
      "pfmData = array.array('f')\n",
      "\n",
      "ppmData = ppmFile.getdata()\n",
      "\n",
      "ppmFile.show()\n",
      "\n",
      "ppmdata = ppmFile.getdata()\n"
     ],
     "language": "python",
     "metadata": {},
     "outputs": [],
     "prompt_number": 50
    },
    {
     "cell_type": "code",
     "collapsed": false,
     "input": [
      "def readPFMFile(filepath):\n",
      "    pfmFile = open(filepath, 'rb')\n",
      "    pfmFile.readline()\n",
      "    dims = pfmFile.readline()\n",
      "    result = {}\n",
      "    width = int(dims.split()[0])\n",
      "    height = int(dims.split()[1])\n",
      "    numChannels = 3\n",
      "    pfmFile.readline()\n",
      "    data = array.array('f')\n",
      "    data.read(pfmFile, width * height * 3)\n",
      "    npData = np.array(data)\n",
      "    npData.shape = (height, width, numChannels)\n",
      "    npData = npData[::-1]\n",
      "    return npData\n",
      "\n",
      "#fp = fopen(filename, \"wb\");\n",
      "#    fputc('P', fp);\n",
      "#\tfputc('F', fp);\n",
      "#\tfputc(0x0a, fp);\n",
      "#  \n",
      "#\tfprintf(fp, \"%d %d\", image->width, image->height);\n",
      "#\tfputc(0x0a, fp);\n",
      " #   \n",
      "\t#fprintf(fp, \"%f\", -1.0f);\n",
      "\t#fputc(0x0a, fp);\n",
      "    \n",
      "\t#// write image data upside down!!!\n",
      "    #// since we flipped the image upside-down when we read it\n",
      " #\t// we have to write it upside-down so it's stored the right way\n",
      " #   for( i = image->height - 1; i >= 0; --i ) {\n",
      " #       fwrite( &image->data[i * image->width * image->numComponents],\n",
      " #              sizeof(float), image->width * image->numComponents, fp );\n",
      " #   }\n",
      "#\tfclose(fp);\n",
      "def writePFMFile(filepath, data):\n",
      "    f = open(filepath, 'wb')\n",
      "    f.write('FP\\0x0a\\0x0a')\n",
      "    f.write(data.shape[0] + ' ' + data.shape[1] + '\\0x0a')\n",
      "    f.write('-1.0\\0x0a')\n",
      "    for i in np.range(data.shape[0],0):\n",
      "        numpy.tofile(f, data[i, :, :])\n",
      "    f.flush()\n",
      "    f.close()"
     ],
     "language": "python",
     "metadata": {},
     "outputs": [],
     "prompt_number": 51
    },
    {
     "cell_type": "code",
     "collapsed": false,
     "input": [
      "fp = readPFMFile(workingDir + 'grace_latlong.pfm')"
     ],
     "language": "python",
     "metadata": {},
     "outputs": [],
     "prompt_number": 52
    },
    {
     "cell_type": "code",
     "collapsed": false,
     "input": [
      "lum = np.average(fp, axis=2)\n",
      "sinTheta = map(math.sin, np.linspace(0, math.pi, lum.shape[0]))\n",
      "#scaledLum = (lum.T * sinTheta).T\n",
      "scaledLum = lum\n",
      "\n",
      "xUniform = np.random.rand(numSamples)\n",
      "yUniform = np.random.rand(numSamples)\n",
      "\n",
      "rowAvg = np.average(scaledLum, axis = 1).reshape(512)\n",
      "\n",
      "rowCDF = np.zeros(rowAvg.shape[0] + 1)\n",
      "rowCDF[1:] = np.cumsum(rowAvg)\n",
      "s = rowCDF[-1]\n",
      "rowCDF = rowCDF / s\n",
      "\n",
      "samples = []\n",
      "x = np.searchsorted(rowCDF, xUniform)\n",
      "for (i, u) in enumerate(yUniform):\n",
      "    yCDF = np.zeros(scaledLum.shape[1])\n",
      "    yCDF = np.cumsum(scaledLum[x[i], :])\n",
      "    s = yCDF[-1]\n",
      "    yCDF = yCDF / s\n",
      "    y = np.searchsorted(yCDF, u)\n",
      "    samples.append((x[i],y))\n",
      "    \n",
      "for (i,j) in samples:\n",
      "    fp[(i-2):(i+2),(j-2):(j+2),0] = fp[(i-2):(i+2),(j-2):(j+2),2] = 0\n",
      "    fp[(i-2):(i+2),(j-2):(j+2),1] = 1.0\n"
     ],
     "language": "python",
     "metadata": {},
     "outputs": [],
     "prompt_number": 53
    },
    {
     "cell_type": "code",
     "collapsed": false,
     "input": [],
     "language": "python",
     "metadata": {},
     "outputs": [],
     "prompt_number": 53
    },
    {
     "cell_type": "code",
     "collapsed": false,
     "input": [
      "plt.imshow(fp)"
     ],
     "language": "python",
     "metadata": {},
     "outputs": [
      {
       "output_type": "pyout",
       "prompt_number": 238,
       "text": [
        "<matplotlib.image.AxesImage at 0x110505c90>"
       ]
      },
      {
       "output_type": "display_data",
       "png": "[encoded data removed]"
      }
     ],
     "prompt_number": 238
    },
    {
     "cell_type": "code",
     "collapsed": false,
     "input": [
      "arr = np.arange(10)"
     ],
     "language": "python",
     "metadata": {},
     "outputs": [],
     "prompt_number": 24
    },
    {
     "cell_type": "code",
     "collapsed": false,
     "input": [],
     "language": "python",
     "metadata": {},
     "outputs": [],
     "prompt_number": 59
    },
    {
     "cell_type": "code",
     "collapsed": false,
     "input": [
      "n = 10\n",
      "def thetaFunc(u):\n",
      "\treturn math.acos(math.pow(1-u, 1.0/(n + 1)))\n",
      "\n",
      "theta = np.linspace(0,1,1000)\n",
      "thetaF = map(thetaFunc, theta)\n",
      "plt.plot(theta,thetaF)"
     ],
     "language": "python",
     "metadata": {},
     "outputs": [
      {
       "output_type": "pyout",
       "prompt_number": 78,
       "text": [
        "[<matplotlib.lines.Line2D at 0x1127b6cd0>]"
       ]
      },
      {
       "output_type": "display_data",
       "png": "[encoded data removed]"
      }
     ],
     "prompt_number": 78
    },
    {
     "cell_type": "code",
     "collapsed": false,
     "input": [
      "!python sampler.py"
     ],
     "language": "python",
     "metadata": {},
     "outputs": [],
     "prompt_number": 80
    },
    {
     "cell_type": "code",
     "collapsed": false,
     "input": [
      "%load sampler.py"
     ],
     "language": "python",
     "metadata": {},
     "outputs": [],
     "prompt_number": 132
    },
    {
     "cell_type": "code",
     "collapsed": false,
     "input": [
      "import PIL.Image as Image\n",
      "import math, sys, functools\n",
      "import matplotlib.pyplot as plt\n",
      "import numpy as np\n",
      "import pandas as pd\n",
      "import array\n",
      "\n",
      "\n",
      "class FPSampler:\n",
      "\tdef __init__(self, filepath):\n",
      "\t\tself.filepath = filepath\n",
      "\t\tpfmFile = open(filepath, 'rb')\n",
      "\t\tpfmFile.readline()\n",
      "\t\tdims = pfmFile.readline()\n",
      "\t\tself.width = int(dims.split()[0])\n",
      "\t\tself.height = int(dims.split()[1])\n",
      "\t\tself.numChannels = 3\n",
      "\t\tpfmFile.readline()\n",
      "\t\tdata = array.array('f')\n",
      "\t\tdata.read(pfmFile, self.width * self.height * 3)\n",
      "\t\tnpData = np.array(data)\n",
      "\t\tnpData.shape = (self.height, self.width, self.numChannels)\n",
      "\t\tself.npData = npData[::-1]\n",
      "\t\tpfmFile.close()\n",
      "\t\n",
      "\tdef writePFMFile(self, filepath, data):\n",
      "\t\tf = open(filepath, 'wb')\n",
      "\t\tf.write('FP\\0x0a\\0x0a')\n",
      "\t\tf.write(str(self.npData.shape[0]) + ' ' + str(self.npData.shape[1]) + '\\0x0a')\n",
      "\t\tf.write('-1.0\\0x0a')\n",
      "\t\tfor i in np.arange(self.npData.shape[0]-1, 0, -1):\n",
      "\t\t\tself.npData[i,:,:].tofile(f)\n",
      "\t\tf.flush()\n",
      "\t\tf.close()\n",
      "\n",
      "\tdef cdfSamples(self, numSamples):\n",
      "\t\tlum = np.average(self.npData, axis=2)\n",
      "\t\tsinTheta = map(math.sin, np.linspace(0, math.pi, self.npData.shape[0]))\n",
      "\t\tscaledLum = (lum.T * sinTheta).T\n",
      "\n",
      "\t\txUniform = np.random.rand(numSamples)\n",
      "\t\tyUniform = np.random.rand(numSamples)\n",
      "\n",
      "\t\trowAvg = np.average(scaledLum, axis = 1).reshape(512)\n",
      "\n",
      "\t\trowCDF = np.zeros(rowAvg.shape[0] + 1)\n",
      "\t\trowCDF[1:] = np.cumsum(rowAvg)\n",
      "\t\ts = rowCDF[-1]\n",
      "\t\trowCDF = rowCDF / s\n",
      "\n",
      "\t\tsamples = []\n",
      "\t\tx = np.searchsorted(rowCDF, xUniform)\n",
      "\t\n",
      "\t\tfor (i, u) in enumerate(yUniform):\n",
      "\t\t\tyCDF = np.zeros(scaledLum.shape[1])\n",
      "\t\t\tyCDF = np.cumsum(scaledLum[x[i], :])\n",
      "\t\t\ts = yCDF[-1]\n",
      "\t\t\tyCDF = yCDF / s\n",
      "\t\t\ty = np.searchsorted(yCDF, u)\n",
      "\t\t\tsamples.append((x[i],y))\n",
      "\t\treturn samples\n",
      "\n",
      "\tdef phongSamples(self, numSamples, exponent):\n",
      "\t\txUniform = np.random.rand(numSamples)\n",
      "\t\tyUniform = np.random.rand(numSamples)\n",
      "\n",
      "\t\tdef thetaFunc(u):\n",
      "\t\t\treturn int(2.0 * math.acos(math.pow(1 - u, 1.0/(exponent + 1))) / math.pi * self.height)\n",
      "\n",
      "\t\ttheta = map(thetaFunc, xUniform)\n",
      "\t\tphi = map(int, yUniform * self.width)\n",
      "\t\tsamples = zip(theta, phi)\n",
      "\t\treturn samples\n",
      "\n",
      "\tdef applySamplesToImage(self, samples):\n",
      "\t\tnewImageData = self.npData.copy()\n",
      "\t\tfor v in samples:\n",
      "\t\t\ti = v[0]\n",
      "\t\t\tj = v[1]\n",
      "\t\t\tnewImageData[(i-2):(i+2),(j-2):(j+2),0] = newImageData[(i-2):(i+2),(j-2):(j+2),2] = 0\n",
      "\t\t\tnewImageData[(i-2):(i+2),(j-2):(j+2),1] = 1.0\n",
      "\t\treturn newImageData\n",
      "\n",
      "\tdef toPPM(self, pfmData):\n",
      "\t\tdef upTo255(x):\n",
      "\t\t\tif x >= 1.0:\n",
      "\t\t\t\treturn int(255)\n",
      "\t\t\telse:\n",
      "\t\t\t\treturn int(255 * x)\n",
      "        f = np.vectorize(upTo255)\n",
      "        return f(pfmData)"
     ],
     "language": "python",
     "metadata": {},
     "outputs": [
      {
       "ename": "SyntaxError",
       "evalue": "'return' outside function (<ipython-input-155-11ebfe8b1412>, line 91)",
       "output_type": "pyerr",
       "traceback": [
        "\u001b[0;36m  File \u001b[0;32m\"<ipython-input-155-11ebfe8b1412>\"\u001b[0;36m, line \u001b[0;32m91\u001b[0m\n\u001b[0;31mSyntaxError\u001b[0m\u001b[0;31m:\u001b[0m 'return' outside function\n"
       ]
      }
     ],
     "prompt_number": 155
    },
    {
     "cell_type": "code",
     "collapsed": false,
     "input": [
      "if __name__ == '__main__':\n",
      "\tworkingdir = '/Users/paul/Dropbox/Imperial/advanced-graphics/GraceCathedral/'\n",
      "\tsampler = FPSampler(workingdir + 'grace_latlong.pfm')\n",
      "\tfor i in [64, 256, 1024]:\n",
      "\t\tmc_samples = sampler.cdfSamples(i)\n",
      "\t\tmc_sampled_image = sampler.applySamplesToImage(mc_samples)\n",
      "\t\tmc_ppm = sampler.toPPM(mc_sampled_image)\n",
      "\t\tsampler.writePFMFile(workingdir + 'grace_cdf' + str(i) + '.pfm', mc_sampled_image)\n",
      "\t\timg = Image.fromarray(np.uint8(mc_ppm))\n",
      "\t\timg.show()\n",
      "\t\timg.save('grace_cdf_' + str(i) + '.ppm')\n",
      "\t\t# for j in [1, 10, 50, 200]:\n",
      "\t\t# \tphong = sampler.phongSamples(i, j)\n",
      "\t\t# \tsampler.writePFMFile(workingdir + 'phong_' + str(i) + '_' + str(j) + '.pfm', phong)\n",
      "\t\t# \timg = Image.fromarray(np.uint8(phong))\n",
      "\t\t# \timg.save('grace_phong_' + str(i) + '_' + str(j) + '.ppm')\n"
     ],
     "language": "python",
     "metadata": {},
     "outputs": [
      {
       "ename": "IndexError",
       "evalue": "tuple index out of range",
       "output_type": "pyerr",
       "traceback": [
        "\u001b[0;31m---------------------------------------------------------------------------\u001b[0m\n\u001b[0;31mIndexError\u001b[0m                                Traceback (most recent call last)",
        "\u001b[0;32m<ipython-input-134-4bf1b45f5942>\u001b[0m in \u001b[0;36m<module>\u001b[0;34m()\u001b[0m\n\u001b[1;32m      7\u001b[0m                 \u001b[0mmc_ppm\u001b[0m \u001b[0;34m=\u001b[0m \u001b[0msampler\u001b[0m\u001b[0;34m.\u001b[0m\u001b[0mtoPPM\u001b[0m\u001b[0;34m(\u001b[0m\u001b[0mmc_sampled_image\u001b[0m\u001b[0;34m)\u001b[0m\u001b[0;34m\u001b[0m\u001b[0m\n\u001b[1;32m      8\u001b[0m                 \u001b[0msampler\u001b[0m\u001b[0;34m.\u001b[0m\u001b[0mwritePFMFile\u001b[0m\u001b[0;34m(\u001b[0m\u001b[0mworkingdir\u001b[0m \u001b[0;34m+\u001b[0m \u001b[0;34m'grace_cdf'\u001b[0m \u001b[0;34m+\u001b[0m \u001b[0mstr\u001b[0m\u001b[0;34m(\u001b[0m\u001b[0mi\u001b[0m\u001b[0;34m)\u001b[0m \u001b[0;34m+\u001b[0m \u001b[0;34m'.pfm'\u001b[0m\u001b[0;34m,\u001b[0m \u001b[0mmc_sampled_image\u001b[0m\u001b[0;34m)\u001b[0m\u001b[0;34m\u001b[0m\u001b[0m\n\u001b[0;32m----> 9\u001b[0;31m                 \u001b[0mimg\u001b[0m \u001b[0;34m=\u001b[0m \u001b[0mImage\u001b[0m\u001b[0;34m.\u001b[0m\u001b[0mfromarray\u001b[0m\u001b[0;34m(\u001b[0m\u001b[0mnp\u001b[0m\u001b[0;34m.\u001b[0m\u001b[0muint8\u001b[0m\u001b[0;34m(\u001b[0m\u001b[0mmc_ppm\u001b[0m\u001b[0;34m)\u001b[0m\u001b[0;34m)\u001b[0m\u001b[0;34m\u001b[0m\u001b[0m\n\u001b[0m\u001b[1;32m     10\u001b[0m                 \u001b[0mimg\u001b[0m\u001b[0;34m.\u001b[0m\u001b[0mshow\u001b[0m\u001b[0;34m(\u001b[0m\u001b[0;34m)\u001b[0m\u001b[0;34m\u001b[0m\u001b[0m\n\u001b[1;32m     11\u001b[0m                 \u001b[0mimg\u001b[0m\u001b[0;34m.\u001b[0m\u001b[0msave\u001b[0m\u001b[0;34m(\u001b[0m\u001b[0;34m'grace_cdf_'\u001b[0m \u001b[0;34m+\u001b[0m \u001b[0mstr\u001b[0m\u001b[0;34m(\u001b[0m\u001b[0mi\u001b[0m\u001b[0;34m)\u001b[0m \u001b[0;34m+\u001b[0m \u001b[0;34m'.ppm'\u001b[0m\u001b[0;34m)\u001b[0m\u001b[0;34m\u001b[0m\u001b[0m\n",
        "\u001b[0;32m/usr/local/lib/python2.7/site-packages/PIL/Image.pyc\u001b[0m in \u001b[0;36mfromarray\u001b[0;34m(obj, mode)\u001b[0m\n\u001b[1;32m   1896\u001b[0m         \u001b[0;32mraise\u001b[0m \u001b[0mValueError\u001b[0m\u001b[0;34m(\u001b[0m\u001b[0;34m\"Too many dimensions.\"\u001b[0m\u001b[0;34m)\u001b[0m\u001b[0;34m\u001b[0m\u001b[0m\n\u001b[1;32m   1897\u001b[0m \u001b[0;34m\u001b[0m\u001b[0m\n\u001b[0;32m-> 1898\u001b[0;31m     \u001b[0msize\u001b[0m \u001b[0;34m=\u001b[0m \u001b[0mshape\u001b[0m\u001b[0;34m[\u001b[0m\u001b[0;36m1\u001b[0m\u001b[0;34m]\u001b[0m\u001b[0;34m,\u001b[0m \u001b[0mshape\u001b[0m\u001b[0;34m[\u001b[0m\u001b[0;36m0\u001b[0m\u001b[0;34m]\u001b[0m\u001b[0;34m\u001b[0m\u001b[0m\n\u001b[0m\u001b[1;32m   1899\u001b[0m     \u001b[0;32mif\u001b[0m \u001b[0mstrides\u001b[0m \u001b[0;32mis\u001b[0m \u001b[0;32mnot\u001b[0m \u001b[0mNone\u001b[0m\u001b[0;34m:\u001b[0m\u001b[0;34m\u001b[0m\u001b[0m\n\u001b[1;32m   1900\u001b[0m         \u001b[0mobj\u001b[0m \u001b[0;34m=\u001b[0m \u001b[0mobj\u001b[0m\u001b[0;34m.\u001b[0m\u001b[0mtostring\u001b[0m\u001b[0;34m(\u001b[0m\u001b[0;34m)\u001b[0m\u001b[0;34m\u001b[0m\u001b[0m\n",
        "\u001b[0;31mIndexError\u001b[0m: tuple index out of range"
       ]
      }
     ],
     "prompt_number": 134
    },
    {
     "cell_type": "code",
     "collapsed": false,
     "input": [
      "sampled_mc = sampler.cdfSamples(256)"
     ],
     "language": "python",
     "metadata": {},
     "outputs": [],
     "prompt_number": 136
    },
    {
     "cell_type": "code",
     "collapsed": false,
     "input": [
      "sampled_image = sampler.applySamplesToImage(sampled_mc)"
     ],
     "language": "python",
     "metadata": {},
     "outputs": [],
     "prompt_number": 137
    },
    {
     "cell_type": "code",
     "collapsed": false,
     "input": [
      "mc_ppm = sampler.toPPM(sampled_image)"
     ],
     "language": "python",
     "metadata": {},
     "outputs": [],
     "prompt_number": 139
    },
    {
     "cell_type": "code",
     "collapsed": false,
     "input": [
      "def upTo255(x):\n",
      "\tif x >= 1.0:\n",
      "\t\treturn int(255)\n",
      "\telse:\n",
      "\t\treturn int(255 * x)\n",
      "    "
     ],
     "language": "python",
     "metadata": {},
     "outputs": [],
     "prompt_number": 151
    },
    {
     "cell_type": "code",
     "collapsed": false,
     "input": [
      "f = np.vectorize(upTo255)"
     ],
     "language": "python",
     "metadata": {},
     "outputs": [],
     "prompt_number": 153
    },
    {
     "cell_type": "code",
     "collapsed": false,
     "input": [
      "f(sampled_image)"
     ],
     "language": "python",
     "metadata": {},
     "outputs": [
      {
       "output_type": "pyout",
       "prompt_number": 154,
       "text": [
        "array([[[169,  72,  43],\n",
        "        [169,  72,  43],\n",
        "        [168,  72,  43],\n",
        "        ..., \n",
        "        [171,  73,  44],\n",
        "        [170,  73,  43],\n",
        "        [170,  73,  43]],\n",
        "\n",
        "       [[195,  83,  51],\n",
        "        [193,  82,  51],\n",
        "        [191,  81,  50],\n",
        "        ..., \n",
        "        [203,  87,  53],\n",
        "        [200,  86,  53],\n",
        "        [198,  85,  52]],\n",
        "\n",
        "       [[210,  87,  55],\n",
        "        [205,  85,  54],\n",
        "        [201,  83,  53],\n",
        "        ..., \n",
        "        [226,  95,  60],\n",
        "        [220,  92,  58],\n",
        "        [215,  90,  57]],\n",
        "\n",
        "       ..., \n",
        "       [[  3,   2,   2],\n",
        "        [  3,   2,   2],\n",
        "        [  3,   2,   2],\n",
        "        ..., \n",
        "        [  3,   2,   2],\n",
        "        [  3,   2,   2],\n",
        "        [  3,   2,   2]],\n",
        "\n",
        "       [[  3,   2,   2],\n",
        "        [  3,   2,   2],\n",
        "        [  3,   2,   2],\n",
        "        ..., \n",
        "        [  3,   2,   2],\n",
        "        [  3,   2,   2],\n",
        "        [  3,   2,   2]],\n",
        "\n",
        "       [[  3,   2,   2],\n",
        "        [  3,   2,   2],\n",
        "        [  3,   2,   2],\n",
        "        ..., \n",
        "        [  3,   2,   2],\n",
        "        [  3,   2,   2],\n",
        "        [  3,   2,   2]]])"
       ]
      }
     ],
     "prompt_number": 154
    },
    {
     "cell_type": "code",
     "collapsed": false,
     "input": [
      "d = np.zeros(shape=(511,511,3))"
     ],
     "language": "python",
     "metadata": {},
     "outputs": [],
     "prompt_number": 157
    },
    {
     "cell_type": "code",
     "collapsed": false,
     "input": [
      "def distance(pointA, pointB):\n",
      "\treturn sqrt( (pointA[0] - pointB[0])**2 + (pointA[1] - pointB[1])**2 )"
     ],
     "language": "python",
     "metadata": {},
     "outputs": [],
     "prompt_number": 181
    },
    {
     "cell_type": "code",
     "collapsed": false,
     "input": [
      "data = np.zeros((511,511))"
     ],
     "language": "python",
     "metadata": {},
     "outputs": [],
     "prompt_number": 222
    },
    {
     "cell_type": "code",
     "collapsed": false,
     "input": [
      "a = np.zeros((3,2))"
     ],
     "language": "python",
     "metadata": {},
     "outputs": [],
     "prompt_number": 223
    },
    {
     "cell_type": "code",
     "collapsed": false,
     "input": [
      "for (i,j), value in np.ndenumerate(a):\n",
      "    print i,j"
     ],
     "language": "python",
     "metadata": {},
     "outputs": [
      {
       "output_type": "stream",
       "stream": "stdout",
       "text": [
        "0 0\n",
        "0 1\n",
        "1 0\n",
        "1 1\n",
        "2 0\n",
        "2 1\n"
       ]
      }
     ],
     "prompt_number": 225
    },
    {
     "cell_type": "code",
     "collapsed": false,
     "input": [
      "fp.shape"
     ],
     "language": "python",
     "metadata": {},
     "outputs": [
      {
       "output_type": "pyout",
       "prompt_number": 240,
       "text": [
        "(512, 1024, 3)"
       ]
      }
     ],
     "prompt_number": 240
    },
    {
     "cell_type": "code",
     "collapsed": false,
     "input": [
      "fp_new = fp.copy()\n",
      "\n",
      "fp_new[fp_new > 1] = 1.0\n",
      "fp_new[fp_new < 0] = 0.0"
     ],
     "language": "python",
     "metadata": {},
     "outputs": [],
     "prompt_number": 255
    },
    {
     "cell_type": "code",
     "collapsed": false,
     "input": [
      "precomp = sum(fp_new)/len(samples)"
     ],
     "language": "python",
     "metadata": {},
     "outputs": [],
     "prompt_number": 261
    },
    {
     "cell_type": "code",
     "collapsed": false,
     "input": [
      "def sampleToThetaPhi(sample):\n",
      "    theta = sample[0] / 512.0 * math.pi\n",
      "    phi = sample[1] / 1024.0 * math.pi*2\n",
      "    return theta, phi"
     ],
     "language": "python",
     "metadata": {},
     "outputs": [],
     "prompt_number": 266
    },
    {
     "cell_type": "code",
     "collapsed": false,
     "input": [
      "theta = map(sampleToThetaPhi, samples)"
     ],
     "language": "python",
     "metadata": {},
     "outputs": [],
     "prompt_number": 268
    },
    {
     "cell_type": "code",
     "collapsed": false,
     "input": [
      "theta = [x for (x, y) in theta]"
     ],
     "language": "python",
     "metadata": {},
     "outputs": [],
     "prompt_number": 270
    },
    {
     "cell_type": "code",
     "collapsed": false,
     "input": [
      "costheta = map(math.cos, theta)"
     ],
     "language": "python",
     "metadata": {},
     "outputs": [],
     "prompt_number": 275
    },
    {
     "cell_type": "code",
     "collapsed": false,
     "input": [
      "from scipy.linalg import norm\n",
      "def normalize(pixel):\n",
      "    pixel / norm(pixel)\n",
      "\n",
      "def getPixels(data, samples):\n",
      "    return data[[x for (x,y) in samples], [y for (x,y) in samples], :]\n",
      "    \n",
      "\n",
      "pix = getPixels(fp_new, samples)\n",
      "approx = costheta * pix.T / math.pi"
     ],
     "language": "python",
     "metadata": {},
     "outputs": [],
     "prompt_number": 285
    },
    {
     "cell_type": "code",
     "collapsed": false,
     "input": [
      "%load sampler.py"
     ],
     "language": "python",
     "metadata": {},
     "outputs": [],
     "prompt_number": 320
    },
    {
     "cell_type": "code",
     "collapsed": false,
     "input": [
      "#!/usr/bin/bash\n",
      "\n",
      "import PIL.Image as Image\n",
      "import math, sys, functools\n",
      "import matplotlib.pyplot as plt\n",
      "import numpy as np\n",
      "import pandas as pd\n",
      "import array\n",
      "\n",
      "def upTo255(x):\n",
      "\tif x >= 1.0:\n",
      "\t\treturn int(255)\n",
      "\telse:\n",
      "\t\treturn int(255 * x)\n",
      "\n",
      "class FPSampler:\n",
      "\tdef __init__(self, filepath):\n",
      "\t\tself.filepath = filepath\n",
      "\t\tpfmFile = open(filepath, 'rb')\n",
      "\t\tpfmFile.readline()\n",
      "\t\tdims = pfmFile.readline()\n",
      "\t\tself.width = int(dims.split()[0])\n",
      "\t\tself.height = int(dims.split()[1])\n",
      "\t\tself.numChannels = 3\n",
      "\t\tpfmFile.readline()\n",
      "\t\tdata = array.array('f')\n",
      "\t\tdata.read(pfmFile, self.width * self.height * 3)\n",
      "\t\tnpData = np.array(data)\n",
      "\t\tnpData.shape = (self.height, self.width, self.numChannels)\n",
      "\t\tself.npData = npData[::-1]\n",
      "\t\tpfmFile.close()\n",
      "\t\n",
      "\tdef writePFMFile(self, filepath, data):\n",
      "\t\tf = open(filepath, 'wb')\n",
      "\t\tf.write('FP\\0x0a\\0x0a')\n",
      "\t\tf.write(str(self.npData.shape[0]) + ' ' + str(self.npData.shape[1]) + '\\0x0a')\n",
      "\t\tf.write('-1.0\\0x0a')\n",
      "\t\trev = self.npData[::-1].astype(np.float32)\n",
      "\t\trev.tofile(f)\n",
      "\t\tf.flush()\n",
      "\t\tf.close()\n",
      "\n",
      "\tdef cdfSamples(self, numSamples):\n",
      "\t\tlum = np.average(self.npData, axis=2)\n",
      "\t\tsinTheta = map(math.sin, np.linspace(0, math.pi, self.npData.shape[0]))\n",
      "\t\tscaledLum = (lum.T * sinTheta).T\n",
      "\n",
      "\t\txUniform = np.random.rand(numSamples)\n",
      "\t\tyUniform = np.random.rand(numSamples)\n",
      "\n",
      "\t\trowAvg = np.average(scaledLum, axis = 1).reshape(512)\n",
      "\n",
      "\t\trowCDF = np.zeros(rowAvg.shape[0] + 1)\n",
      "\t\trowCDF[1:] = np.cumsum(rowAvg)\n",
      "\t\ts = rowCDF[-1]\n",
      "\t\trowCDF = rowCDF / s\n",
      "\n",
      "\t\tsamples = []\n",
      "\t\tx = np.searchsorted(rowCDF, xUniform)\n",
      "\t\n",
      "\t\tfor (i, u) in enumerate(yUniform):\n",
      "\t\t\tyCDF = np.zeros(scaledLum.shape[1])\n",
      "\t\t\tyCDF = np.cumsum(scaledLum[x[i], :])\n",
      "\t\t\ts = yCDF[-1]\n",
      "\t\t\tyCDF = yCDF / s\n",
      "\t\t\ty = np.searchsorted(yCDF, u)\n",
      "\t\t\tsamples.append((x[i],y))\n",
      "\t\treturn samples\n",
      "\n",
      "\tdef phongSamples(self, numSamples, exponent):\n",
      "\t\txUniform = np.random.rand(numSamples)\n",
      "\t\tyUniform = np.random.rand(numSamples)\n",
      "\n",
      "\t\tdef thetaFunc(u):\n",
      "\t\t\treturn int(2.0 * math.acos(math.pow(1 - u, 1.0/(exponent + 1))) / math.pi * self.height)\n",
      "\n",
      "\t\ttheta = map(thetaFunc, xUniform)\n",
      "\t\tphi = map(int, yUniform * self.width)\n",
      "\t\tsamples = zip(theta, phi)\n",
      "\t\treturn samples\n",
      "\n",
      "\tdef applySamplesToImage(self, samples):\n",
      "\t\tnewImageData = self.npData.copy()\n",
      "\t\tfor v in samples:\n",
      "\t\t\ti = v[0]\n",
      "\t\t\tj = v[1]\n",
      "\t\t\tnewImageData[(i-2):(i+2),(j-2):(j+2),0] = newImageData[(i-2):(i+2),(j-2):(j+2),2] = 0\n",
      "\t\t\tnewImageData[(i-2):(i+2),(j-2):(j+2),1] = 1.0\n",
      "\t\treturn newImageData\n",
      "\n",
      "\tdef toPPM(self, pfmData):\n",
      "\t\tf = np.vectorize(upTo255)\n",
      "\t\treturn f(pfmData)\n",
      "\n",
      "\tdef imageValues(self, samples):\n",
      "\t\tvalues = np.array(len(samples))\n",
      "\t\tfor i, sample in enumerate(samples):\n",
      "\t\t\tvalues[i] = self.npData[sample[0], sample[1]]"
     ],
     "language": "python",
     "metadata": {},
     "outputs": [],
     "prompt_number": 333
    },
    {
     "cell_type": "code",
     "collapsed": false,
     "input": [
      "%load sampled_sphere.py"
     ],
     "language": "python",
     "metadata": {},
     "outputs": [],
     "prompt_number": 316
    },
    {
     "cell_type": "code",
     "collapsed": false,
     "input": [
      "#!/usr/bin/bash\n",
      "\n",
      "import numpy as np\n",
      "from scipy.linalg import norm, det\n",
      "import PIL.Image as Image\n",
      "import math, sys\n",
      "import matplotlib.pyplot as plt\n",
      "import sampler\n",
      "\n",
      "def sphericalCoord( cartesianCoord ):\n",
      "\ttheta = math.acos( cartesianCoord[1] )\n",
      "\tphi = math.atan2( cartesianCoord[2], cartesianCoord[0] )\n",
      "\tr = math.sqrt( cartesianCoord**2 + cartesianCoord**2 + cartesianCoord**2 )\n",
      "\treturn (theta, phi, r)\n",
      "\n",
      "def cartesianCoord( sphericalCoord ):\n",
      "\ttheta = sphericalCoord[0]\n",
      "\tphi = sphericalCoord[1]\n",
      "\tx = math.sin( theta ) * math.cos( phi )\n",
      "\ty = math.sin( theta ) * math.sin( phi )\n",
      "\tz = math.cos( theta )\n",
      "\treturn (x, y, z)\n",
      "\n",
      "def reflectedVector(v, n):\n",
      "\treturn np.dot(n, v) * n - v\n",
      "\n",
      "def distance(pointA, pointB):\n",
      "\treturn sqrt( (pointA[0] - pointB[0])**2 + (pointA[1] - pointB[1])**2 )\n",
      "\n",
      "def normalizePixel(pixel):\n",
      "\tn = norm(pixel)\n",
      "\treturn (pixel[0]/n, pixel[1]/n, pixel[2]/n)\n",
      "\n",
      "class SampledSphere:\n",
      "\tdef __init__(self, sphereDiameter):\n",
      "\t\tself.diameter = sphereDiameter\n",
      "\t\tself.imageData = sampler.npData\n",
      "\n",
      "\tdef emptySphere(self):\n",
      "\t\tself.data = np.ones(shape=(self.diameter, self.diameter, 3))\n",
      "\t\tr = self.diameter / 2\n",
      "\t\tcenter = (r, r)\n",
      "\n",
      "\t\tfor index in np.ndindex(self.diameter, self.diameter):\n",
      "\t\t\tif distance(index, (r, r)) > r:\n",
      "\t\t\t\tself.data[index[0], index[1], :] = 0\n",
      "\n",
      "\tdef precomputeIntegral(self, imageData):\n",
      "\t\tself.integral = 0.0\n",
      "\t\tluminance = np.average(imageData, axis=2)\n",
      "\t\td_theta = math.pi / float(luminance.shape[0])\n",
      "\t\td_phi = 2*math.pi / float(luminance.shape[1])\n",
      "\t\tfor idx, v in np.ndenumerate(luminance):\n",
      "\t\t\ttheta = d_theta * idx[0]\n",
      "\t\t\td_omega = math.sin(theta) * d_theta * d_phi\n",
      "\t\t\tself.integral += v * d_omega\n",
      "\n",
      "\tdef monteCarloSum(self, sampleValues, spherePoint):\n",
      "\t\tmcSum = 0.0\n",
      "\t\ttheta = spherePoint[0]\n",
      "\t\tfor s in sampleValues:\n",
      "\t\t\tmcSum += cos(theta) * (s / norm(s)) / math.pi\n",
      "\n",
      "\tdef saveSphereImage(self, filepath, asFloatingPoint):\n",
      "\t\tpass\n",
      "\n",
      "if __name__ == '__main__':\n",
      "\tworkingdir = '/Users/paul/github/hdr'\n",
      "\tgrace_filepath = '/Users/paul/Dropbox/Imperial/advanced-graphics/GraceCathedral/grace_latlong.pfm'\n",
      "\tsp = FPSampler(grace_filepath)\n",
      "\tfor i in [64, 256, 1024]:\n",
      "\t\ts = SampledSphere(511)\n",
      "\t\ts.emptySphere()\n",
      "\t\ts.precomputeIntegral(sp.npData)\n",
      "\t\tmcSamples = sp.cdfSamples(i)\n",
      "        vals = sp.imageValues(mcSamples)\n",
      "        for idx, v in np.ndenumerate(s.data):\n",
      "            mcsum = s.monteCarloSum(vals, idx)\n",
      "\t\ts.saveSphereImage(workingdir+'sampledSphere_' + str(i) + '.pfm', True)\n",
      "\t\ts.saveSphereImage(workingdir+'sampledSphere_' + str(i) + '.pfm', False)"
     ],
     "language": "python",
     "metadata": {},
     "outputs": [
      {
       "ename": "IndentationError",
       "evalue": "unexpected indent (<ipython-input-325-62a20bf1ab9f>, line 79)",
       "output_type": "pyerr",
       "traceback": [
        "\u001b[0;31mIndentationError\u001b[0m\u001b[0;31m:\u001b[0m unexpected indent\n"
       ]
      }
     ],
     "prompt_number": 325
    },
    {
     "cell_type": "code",
     "collapsed": false,
     "input": [
      "sp = FPSampler(grace_filepath)"
     ],
     "language": "python",
     "metadata": {},
     "outputs": [],
     "prompt_number": 334
    },
    {
     "cell_type": "code",
     "collapsed": false,
     "input": [
      "s = SampledSphere(511)"
     ],
     "language": "python",
     "metadata": {},
     "outputs": [],
     "prompt_number": 335
    },
    {
     "cell_type": "code",
     "collapsed": false,
     "input": [
      "s.emptySphere()"
     ],
     "language": "python",
     "metadata": {},
     "outputs": [],
     "prompt_number": 336
    },
    {
     "cell_type": "code",
     "collapsed": false,
     "input": [
      "plt.imshow(s.data)"
     ],
     "language": "python",
     "metadata": {},
     "outputs": [
      {
       "output_type": "pyout",
       "prompt_number": 337,
       "text": [
        "<matplotlib.image.AxesImage at 0x123aa1090>"
       ]
      },
      {
       "output_type": "display_data",
       "png": "[encoded data removed]"
      }
     ],
     "prompt_number": 337
    },
    {
     "cell_type": "code",
     "collapsed": false,
     "input": [
      "samples = sp.cdfSamples(64)"
     ],
     "language": "python",
     "metadata": {},
     "outputs": [],
     "prompt_number": 339
    },
    {
     "cell_type": "code",
     "collapsed": false,
     "input": [
      "x = [i for (i,j) in samples]\n",
      "y = [j for (i,j) in samples]"
     ],
     "language": "python",
     "metadata": {},
     "outputs": [],
     "prompt_number": 342
    },
    {
     "cell_type": "code",
     "collapsed": false,
     "input": [
      "vals = sp.npData[x,y,:]"
     ],
     "language": "python",
     "metadata": {},
     "outputs": [],
     "prompt_number": 345
    },
    {
     "cell_type": "code",
     "collapsed": false,
     "input": [
      "s.precomputeIntegral(sp.npData)"
     ],
     "language": "python",
     "metadata": {},
     "outputs": [],
     "prompt_number": 351
    },
    {
     "cell_type": "code",
     "collapsed": false,
     "input": [
      "for i, v in np.ndenumerate(sp.npData):\n",
      "    "
     ],
     "language": "python",
     "metadata": {},
     "outputs": [
      {
       "output_type": "stream",
       "stream": "stdout",
       "text": [
        "(0, 0, 0)\n"
       ]
      }
     ],
     "prompt_number": 363
    },
    {
     "cell_type": "code",
     "collapsed": false,
     "input": [],
     "language": "python",
     "metadata": {},
     "outputs": []
    }
   ],
   "metadata": {}
  }
 ]
}